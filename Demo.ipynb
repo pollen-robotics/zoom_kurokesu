{
 "cells": [
  {
   "cell_type": "markdown",
   "id": "adjusted-nightmare",
   "metadata": {},
   "source": [
    "# Changing the zoom of Reachy's eyes"
   ]
  },
  {
   "cell_type": "code",
   "execution_count": 8,
   "id": "outer-roller",
   "metadata": {},
   "outputs": [],
   "source": [
    "from zoom_kurokesu import ZoomController"
   ]
  },
  {
   "cell_type": "markdown",
   "id": "banned-inside",
   "metadata": {},
   "source": [
    "#### First, connect to the zoom controller board"
   ]
  },
  {
   "cell_type": "code",
   "execution_count": 2,
   "id": "aquatic-legend",
   "metadata": {},
   "outputs": [],
   "source": [
    "zoom_controller = ZoomController()"
   ]
  },
  {
   "cell_type": "markdown",
   "id": "timely-senate",
   "metadata": {},
   "source": [
    "#### Perform homing for both eyes, you MUST do it before sending zoom command."
   ]
  },
  {
   "cell_type": "code",
   "execution_count": 3,
   "id": "engaging-pharmacy",
   "metadata": {},
   "outputs": [],
   "source": [
    "zoom_controller.homing(side='left')\n",
    "zoom_controller.homing(side='right')"
   ]
  },
  {
   "cell_type": "markdown",
   "id": "appropriate-updating",
   "metadata": {},
   "source": [
    "#### Then you can change the zoom level\n",
    "There are three levels of zooming:\n",
    "* *'in'*: for further objects\n",
    "* *'out'*: for closer objects\n",
    "* *'inter'*: in between *'in'* and *'out'*"
   ]
  },
  {
   "cell_type": "code",
   "execution_count": 4,
   "id": "sought-cooper",
   "metadata": {},
   "outputs": [],
   "source": [
    "zoom_controller.send_zoom_command('left', 'in')"
   ]
  },
  {
   "cell_type": "markdown",
   "id": "renewable-teddy",
   "metadata": {},
   "source": [
    "<img src=\"img/in.png\" alt=\"drawing\" width=\"300\"/>"
   ]
  },
  {
   "cell_type": "code",
   "execution_count": 5,
   "id": "unusual-immunology",
   "metadata": {},
   "outputs": [],
   "source": [
    "zoom_controller.send_zoom_command('left', 'inter')"
   ]
  },
  {
   "cell_type": "code",
   "execution_count": null,
   "id": "fleet-siemens",
   "metadata": {},
   "outputs": [],
   "source": [
    "<img src=\"img/inter.png\" alt=\"drawing\" width=\"300\"/>"
   ]
  },
  {
   "cell_type": "code",
   "execution_count": 6,
   "id": "sapphire-parade",
   "metadata": {},
   "outputs": [],
   "source": [
    "zoom_controller.send_zoom_command('left', 'out')"
   ]
  },
  {
   "cell_type": "markdown",
   "id": "ranking-james",
   "metadata": {},
   "source": [
    "Motors speed can also be changed. The speed value must be between 4000 and 40000. Default value is 10000."
   ]
  },
  {
   "cell_type": "code",
   "execution_count": 3,
   "id": "painted-forward",
   "metadata": {},
   "outputs": [],
   "source": [
    "zoom_controller.set_speed(20000)"
   ]
  },
  {
   "cell_type": "code",
   "execution_count": null,
   "id": "outstanding-programming",
   "metadata": {},
   "outputs": [],
   "source": []
  }
 ],
 "metadata": {
  "kernelspec": {
   "display_name": "Python 3",
   "language": "python",
   "name": "python3"
  },
  "language_info": {
   "codemirror_mode": {
    "name": "ipython",
    "version": 3
   },
   "file_extension": ".py",
   "mimetype": "text/x-python",
   "name": "python",
   "nbconvert_exporter": "python",
   "pygments_lexer": "ipython3",
   "version": "3.8.5"
  }
 },
 "nbformat": 4,
 "nbformat_minor": 5
}